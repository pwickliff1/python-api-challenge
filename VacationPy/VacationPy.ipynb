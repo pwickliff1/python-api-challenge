{
 "cells": [
  {
   "cell_type": "markdown",
   "metadata": {},
   "source": [
    "# VacationPy\n",
    "----\n",
    "\n",
    "#### Note\n",
    "* Instructions have been included for each segment. You do not have to follow them exactly, but they are included to help you think through the steps."
   ]
  },
  {
   "cell_type": "code",
   "execution_count": 1,
   "metadata": {},
   "outputs": [],
   "source": [
    "# Dependencies and Setup\n",
    "import matplotlib.pyplot as plt\n",
    "import pandas as pd\n",
    "import numpy as np\n",
    "import requests\n",
    "import gmaps\n",
    "import os\n",
    "\n",
    "# Import API key\n",
    "from api_keys import g_key\n"
   ]
  },
  {
   "cell_type": "markdown",
   "metadata": {},
   "source": [
    "### Store Part I results into DataFrame\n",
    "* Load the csv exported in Part I to a DataFrame"
   ]
  },
  {
   "cell_type": "code",
   "execution_count": 2,
   "metadata": {},
   "outputs": [
    {
     "data": {
      "text/html": [
       "<div>\n",
       "<style scoped>\n",
       "    .dataframe tbody tr th:only-of-type {\n",
       "        vertical-align: middle;\n",
       "    }\n",
       "\n",
       "    .dataframe tbody tr th {\n",
       "        vertical-align: top;\n",
       "    }\n",
       "\n",
       "    .dataframe thead th {\n",
       "        text-align: right;\n",
       "    }\n",
       "</style>\n",
       "<table border=\"1\" class=\"dataframe\">\n",
       "  <thead>\n",
       "    <tr style=\"text-align: right;\">\n",
       "      <th></th>\n",
       "      <th>City_ID</th>\n",
       "      <th>City</th>\n",
       "      <th>Cloudiness</th>\n",
       "      <th>Country</th>\n",
       "      <th>Date</th>\n",
       "      <th>Humidity</th>\n",
       "      <th>Lat</th>\n",
       "      <th>Lon</th>\n",
       "      <th>Max Temp</th>\n",
       "      <th>Max Temp K</th>\n",
       "      <th>Wind Speed</th>\n",
       "    </tr>\n",
       "  </thead>\n",
       "  <tbody>\n",
       "    <tr>\n",
       "      <th>0</th>\n",
       "      <td>0</td>\n",
       "      <td>Hualmay</td>\n",
       "      <td>35</td>\n",
       "      <td>PE</td>\n",
       "      <td>1593224740</td>\n",
       "      <td>85</td>\n",
       "      <td>-11.10</td>\n",
       "      <td>-77.61</td>\n",
       "      <td>62</td>\n",
       "      <td>289.62</td>\n",
       "      <td>3.67</td>\n",
       "    </tr>\n",
       "    <tr>\n",
       "      <th>1</th>\n",
       "      <td>1</td>\n",
       "      <td>Hithadhoo</td>\n",
       "      <td>99</td>\n",
       "      <td>MV</td>\n",
       "      <td>1593224741</td>\n",
       "      <td>71</td>\n",
       "      <td>-0.60</td>\n",
       "      <td>73.08</td>\n",
       "      <td>84</td>\n",
       "      <td>302.24</td>\n",
       "      <td>2.32</td>\n",
       "    </tr>\n",
       "    <tr>\n",
       "      <th>2</th>\n",
       "      <td>2</td>\n",
       "      <td>Pacific Grove</td>\n",
       "      <td>90</td>\n",
       "      <td>US</td>\n",
       "      <td>1593224741</td>\n",
       "      <td>82</td>\n",
       "      <td>36.62</td>\n",
       "      <td>-121.92</td>\n",
       "      <td>61</td>\n",
       "      <td>289.15</td>\n",
       "      <td>4.10</td>\n",
       "    </tr>\n",
       "  </tbody>\n",
       "</table>\n",
       "</div>"
      ],
      "text/plain": [
       "   City_ID           City  Cloudiness Country        Date  Humidity    Lat  \\\n",
       "0        0        Hualmay          35      PE  1593224740        85 -11.10   \n",
       "1        1      Hithadhoo          99      MV  1593224741        71  -0.60   \n",
       "2        2  Pacific Grove          90      US  1593224741        82  36.62   \n",
       "\n",
       "      Lon  Max Temp  Max Temp K  Wind Speed  \n",
       "0  -77.61        62      289.62        3.67  \n",
       "1   73.08        84      302.24        2.32  \n",
       "2 -121.92        61      289.15        4.10  "
      ]
     },
     "execution_count": 2,
     "metadata": {},
     "output_type": "execute_result"
    }
   ],
   "source": [
    "weather_df = pd.read_csv('../output_data/cities.csv')\n",
    "weather_df.head(3)\n"
   ]
  },
  {
   "cell_type": "markdown",
   "metadata": {},
   "source": [
    "### Humidity Heatmap\n",
    "* Configure gmaps.\n",
    "* Use the Lat and Lng as locations and Humidity as the weight.\n",
    "* Add Heatmap layer to map."
   ]
  },
  {
   "cell_type": "code",
   "execution_count": 3,
   "metadata": {},
   "outputs": [],
   "source": [
    "# Configure gmaps with API key\n",
    "gmaps.configure(api_key=g_key)"
   ]
  },
  {
   "cell_type": "markdown",
   "metadata": {},
   "source": [
    "### Create new DataFrame fitting weather criteria\n",
    "* Narrow down the cities to fit weather conditions.\n",
    "* Drop any rows will null values."
   ]
  },
  {
   "cell_type": "code",
   "execution_count": 4,
   "metadata": {},
   "outputs": [],
   "source": [
    "# Create data with nice weather conditions\n",
    "nice_weather_df = weather_df[(weather_df[\"Max Temp\"] > 70) & (weather_df[\"Max Temp\"] < 80) & \n",
    "                             (weather_df[\"Wind Speed\"] < 10) & (weather_df[\"Cloudiness\"] == 0)] \n"
   ]
  },
  {
   "cell_type": "markdown",
   "metadata": {},
   "source": [
    "### Hotel Map\n",
    "* Store into variable named `hotel_df`.\n",
    "* Add a \"Hotel Name\" column to the DataFrame.\n",
    "* Set parameters to search for hotels with 5000 meters.\n",
    "* Hit the Google Places API for each city's coordinates.\n",
    "* Store the first Hotel result into the DataFrame.\n",
    "* Plot markers on top of the heatmap."
   ]
  },
  {
   "cell_type": "code",
   "execution_count": 5,
   "metadata": {},
   "outputs": [],
   "source": [
    "# initialize variables\n",
    "target_lat = []\n",
    "target_lng = []\n",
    "humidity = []\n",
    "hotel_name = []\n",
    "locate = []\n",
    "lat1 = []\n",
    "lng1 = []\n",
    "h_city = []\n",
    "h_country = []\n",
    "\n",
    "# Get latitude and longitude from google maps\n",
    "\n",
    "for i in range(0, 10): \n",
    "    lat = nice_weather_df.iloc[i,6].astype(str)\n",
    "    lon = nice_weather_df.iloc[i,7].astype(str)\n",
    "    humid = nice_weather_df.iloc[i,5]\n",
    "    #city = nice_weather_df.iloc[i,1]\n",
    "    #country = nice_weather_df.iloc[i,3]\n",
    "    \n",
    "    loc = f\"{lat}, {lon}\"\n",
    "    \n",
    "    params = {\n",
    "    \"location\": loc,\n",
    "    \"radius\": 5000,\n",
    "    \"type\": \"hotel\",\n",
    "    \"key\": g_key\n",
    "    }\n",
    "  \n",
    "    base_url = \"https://maps.googleapis.com/maps/api/place/nearbysearch/json\"\n",
    "    response = requests.get(base_url, params=params).json()\n",
    "    results = response['results']\n",
    "    \n",
    "    lat1 = results[0][\"geometry\"]['location'][\"lat\"]\n",
    "    lng1 = results[0][\"geometry\"]['location'][\"lng\"]\n",
    "    #loc1 = f\"'{lat1}, {lng1}'\"\n",
    "          \n",
    "    target_lat.append(results[0][\"geometry\"]['location'][\"lat\"])\n",
    "    target_lng.append(results[0][\"geometry\"]['location'][\"lng\"])\n",
    "    #locate = results[0][\"geometry\"]['location'][\"lat\"] )\n",
    "    humidity.append(nice_weather_df.iloc[i,5])\n",
    "    hotel_name.append(results[0][\"name\"])\n",
    "    h_city.append(nice_weather_df.iloc[i,1]) \n",
    "    h_country.append(nice_weather_df.iloc[i,3]) \n",
    "    \n",
    "    \n",
    "# Create dataframe for google maps    \n",
    "hotel_df = pd.DataFrame({\n",
    "                        \"lat\": target_lat,\n",
    "                        \"lng\": target_lng,\n",
    "                        \"humid\": humidity,\n",
    "                        \"hotel\": hotel_name,\n",
    "                        \"city\": h_city,\n",
    "                        \"country\": h_country\n",
    "                            \n",
    "                        })\n"
   ]
  },
  {
   "cell_type": "code",
   "execution_count": 8,
   "metadata": {},
   "outputs": [
    {
     "data": {
      "application/vnd.jupyter.widget-view+json": {
       "model_id": "077eb62b85e64305a4a0286c4848d78c",
       "version_major": 2,
       "version_minor": 0
      },
      "text/plain": [
       "Figure(layout=FigureLayout(height='420px'))"
      ]
     },
     "metadata": {},
     "output_type": "display_data"
    }
   ],
   "source": [
    "# Create paramters for mp\n",
    "locations = hotel_df[[\"lat\", \"lng\"]].astype(float)\n",
    "location = hotel_df[[\"lat\", \"lng\"]].astype(float)\n",
    "humidity = hotel_df[\"humid\"].astype(float)\n",
    "city_cntry = hotel_df[\"city\"] + \", \"+ hotel_df[\"country\"]\n",
    "hotel = \"Hotel: \"+ hotel_df[\"hotel\"]\n",
    "\n",
    "# Create map\n",
    "fig = gmaps.figure()\n",
    "\n",
    "# Add heatmap layer\n",
    "heat_layer = gmaps.heatmap_layer(locations, weights=humidity, \n",
    "                                 dissipating=False, max_intensity=100,\n",
    "                                 point_radius = 2)\n",
    "fig.add_layer(heat_layer)\n",
    "\n",
    "# Add marker layer\n",
    "marker_layer = gmaps.marker_layer(locations,hover_text=hotel,info_box_content=city_cntry)\n",
    "fig.add_layer(marker_layer)\n",
    "\n",
    "# Display map\n",
    "fig\n",
    "\n",
    "\n"
   ]
  },
  {
   "cell_type": "code",
   "execution_count": null,
   "metadata": {},
   "outputs": [],
   "source": []
  }
 ],
 "metadata": {
  "kernelspec": {
   "display_name": "Python 3",
   "language": "python",
   "name": "python3"
  },
  "language_info": {
   "codemirror_mode": {
    "name": "ipython",
    "version": 3
   },
   "file_extension": ".py",
   "mimetype": "text/x-python",
   "name": "python",
   "nbconvert_exporter": "python",
   "pygments_lexer": "ipython3",
   "version": "3.7.6"
  },
  "latex_envs": {
   "LaTeX_envs_menu_present": true,
   "autoclose": false,
   "autocomplete": true,
   "bibliofile": "biblio.bib",
   "cite_by": "apalike",
   "current_citInitial": 1,
   "eqLabelWithNumbers": true,
   "eqNumInitial": 1,
   "hotkeys": {
    "equation": "Ctrl-E",
    "itemize": "Ctrl-I"
   },
   "labels_anchors": false,
   "latex_user_defs": false,
   "report_style_numbering": false,
   "user_envs_cfg": false
  }
 },
 "nbformat": 4,
 "nbformat_minor": 2
}
